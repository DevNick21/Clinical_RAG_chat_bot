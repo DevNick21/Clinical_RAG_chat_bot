{
 "cells": [
  {
   "cell_type": "code",
   "execution_count": 1,
   "id": "5ffc6d04",
   "metadata": {},
   "outputs": [],
   "source": [
    "import sqlite3\n",
    "import pandas as pd\n",
    "from pathlib import Path"
   ]
  },
  {
   "cell_type": "code",
   "execution_count": 2,
   "id": "4ae2a722",
   "metadata": {},
   "outputs": [],
   "source": [
    "DB_PATH       = \"mimic_iv_hosp.db\"\n",
    "OUTPUT_FOLDER = Path(\"./mimic_sample_1000\")\n",
    "SAMPLE_SIZE   = 1000"
   ]
  },
  {
   "cell_type": "code",
   "execution_count": 3,
   "id": "8f63b9e8",
   "metadata": {},
   "outputs": [],
   "source": [
    "OUTPUT_FOLDER.mkdir(exist_ok=True)"
   ]
  },
  {
   "cell_type": "code",
   "execution_count": 4,
   "id": "e3542688",
   "metadata": {},
   "outputs": [],
   "source": [
    "conn   = sqlite3.connect(DB_PATH)\n",
    "cursor = conn.cursor()"
   ]
  },
  {
   "cell_type": "code",
   "execution_count": 5,
   "id": "89dd8b6d",
   "metadata": {},
   "outputs": [],
   "source": [
    "cursor.execute(\"SELECT name FROM sqlite_master WHERE type='table';\")\n",
    "all_tables = [row[0] for row in cursor.fetchall()]"
   ]
  },
  {
   "cell_type": "code",
   "execution_count": null,
   "id": "afcc3e61",
   "metadata": {},
   "outputs": [
    {
     "name": "stdout",
     "output_type": "stream",
     "text": [
      "Found 13 tables with hadm_id: ['admissions.csv', 'diagnoses_icd.csv', 'drgcodes.csv', 'emar.csv', 'hcpcsevents.csv', 'microbiologyevents.csv', 'pharmacy.csv', 'poe.csv', 'prescriptions.csv', 'procedures_icd.csv', 'services.csv', 'transfers.csv', 'labevents.csv']\n",
      "\n"
     ]
    }
   ],
   "source": [
    "linking_tables = []\n",
    "for tbl in all_tables:\n",
    "    cursor.execute(f'PRAGMA table_info(\"{tbl}\");')\n",
    "    cols = [r[1] for r in cursor.fetchall()]\n",
    "    if \"hadm_id\" in cols:\n",
    "        linking_tables.append(tbl)\n",
    "\n",
    "print(f\"Found {len(linking_tables)} tables with hadm_id: {linking_tables}\\n\")"
   ]
  },
  {
   "cell_type": "code",
   "execution_count": 9,
   "id": "bcd6fa2f",
   "metadata": {},
   "outputs": [
    {
     "name": "stdout",
     "output_type": "stream",
     "text": [
      "Sampled 1000 hadm_ids (e.g. [20700725, 22562915, 21933384, 28996579, 29463780]…)\n",
      "\n"
     ]
    }
   ],
   "source": [
    "sample_sql = f\"\"\"\n",
    "    SELECT hadm_id\n",
    "      FROM [admissions.csv]\n",
    "     ORDER BY RANDOM()\n",
    "     LIMIT {SAMPLE_SIZE};\n",
    "\"\"\"\n",
    "sample_ids = pd.read_sql_query(sample_sql, conn)[\"hadm_id\"].tolist()\n",
    "print(f\"Sampled {len(sample_ids)} hadm_ids (e.g. {sample_ids[:5]}…)\\n\")"
   ]
  },
  {
   "cell_type": "code",
   "execution_count": 10,
   "id": "820fc265",
   "metadata": {},
   "outputs": [
    {
     "data": {
      "text/plain": [
       "1000"
      ]
     },
     "execution_count": 10,
     "metadata": {},
     "output_type": "execute_result"
    }
   ],
   "source": [
    "sample_df = pd.DataFrame({\"hadm_id\": sample_ids})\n",
    "sample_df.to_sql(\"sample_adm\", conn, if_exists=\"replace\", index=False)"
   ]
  },
  {
   "cell_type": "code",
   "execution_count": 12,
   "id": "910d7211",
   "metadata": {},
   "outputs": [
    {
     "name": "stdout",
     "output_type": "stream",
     "text": [
      "Exporting table `admissions.csv`… 1,000 rows → admissions.csv_sample1000.csv\n",
      "Exporting table `diagnoses_icd.csv`… 11,517 rows → diagnoses_icd.csv_sample1000.csv\n",
      "Exporting table `drgcodes.csv`… 1,378 rows → drgcodes.csv_sample1000.csv\n",
      "Exporting table `emar.csv`… 83,500 rows → emar.csv_sample1000.csv\n",
      "Exporting table `hcpcsevents.csv`… 378 rows → hcpcsevents.csv_sample1000.csv\n",
      "Exporting table `microbiologyevents.csv`… 3,768 rows → microbiologyevents.csv_sample1000.csv\n",
      "Exporting table `pharmacy.csv`… 33,725 rows → pharmacy.csv_sample1000.csv\n",
      "Exporting table `poe.csv`… 97,453 rows → poe.csv_sample1000.csv\n",
      "Exporting table `prescriptions.csv`… 38,271 rows → prescriptions.csv_sample1000.csv\n",
      "Exporting table `procedures_icd.csv`… 1,533 rows → procedures_icd.csv_sample1000.csv\n",
      "Exporting table `services.csv`… 1,096 rows → services.csv_sample1000.csv\n",
      "Exporting table `transfers.csv`… 3,690 rows → transfers.csv_sample1000.csv\n",
      "Exporting table `labevents.csv`… 158,695 rows → labevents.csv_sample1000.csv\n"
     ]
    }
   ],
   "source": [
    "for tbl in linking_tables:\n",
    "    print(f\"Exporting table `{tbl}`…\", end=\" \")\n",
    "    df = pd.read_sql_query(\n",
    "        f'SELECT * FROM \"{tbl}\" WHERE hadm_id IN (SELECT hadm_id FROM sample_adm);',\n",
    "        conn\n",
    "    )\n",
    "    out_path = OUTPUT_FOLDER / f\"{tbl}_sample{SAMPLE_SIZE}.csv\"\n",
    "    df.to_csv(out_path, index=False)\n",
    "    print(f\"{len(df):,} rows → {out_path.name}\")"
   ]
  },
  {
   "cell_type": "code",
   "execution_count": 13,
   "id": "ba0b112b",
   "metadata": {},
   "outputs": [],
   "source": [
    "cursor.execute(\"DROP TABLE IF EXISTS sample_adm;\")\n",
    "conn.commit()\n",
    "conn.close()"
   ]
  },
  {
   "cell_type": "markdown",
   "id": "42894f25",
   "metadata": {},
   "source": [
    "Re opening to get other datasets not linked by hadm_id"
   ]
  },
  {
   "cell_type": "code",
   "execution_count": 1,
   "id": "6019f23c",
   "metadata": {},
   "outputs": [],
   "source": [
    "import sqlite3\n",
    "conn = sqlite3.connect(\"mimic_iv_hosp.db\")"
   ]
  },
  {
   "cell_type": "code",
   "execution_count": 2,
   "id": "b25b2f83",
   "metadata": {},
   "outputs": [],
   "source": [
    "import pandas as pd\n",
    "from pathlib import Path\n",
    "OUTPUT = Path(\"./mimic_sample_1000\")"
   ]
  },
  {
   "cell_type": "code",
   "execution_count": 5,
   "id": "bb7fa4ea",
   "metadata": {},
   "outputs": [
    {
     "name": "stdout",
     "output_type": "stream",
     "text": [
      "Skipping d_icd_diagnoses.csv (already exists).\n",
      "Skipping d_icd_procedures.csv (already exists).\n",
      "Skipping d_labitems.csv (already exists).\n",
      "Skipping d_hcpcs.csv (already exists).\n",
      "Skipping provider.csv (already exists).\n"
     ]
    }
   ],
   "source": [
    "small_defs = [\n",
    "    \"d_icd_diagnoses.csv\",\n",
    "    \"d_icd_procedures.csv\",\n",
    "    \"d_labitems.csv\",\n",
    "    \"d_hcpcs.csv\",\n",
    "    \"provider.csv\",\n",
    "]\n",
    "for tbl in small_defs:\n",
    "    out_file = OUTPUT / f\"{tbl}.csv\"\n",
    "    if out_file.exists():\n",
    "        print(f\"Skipping {tbl} (already exists).\")\n",
    "        continue\n",
    "\n",
    "    print(f\"Exporting {tbl}…\", end=\" \")\n",
    "    df = pd.read_sql_query(f\"SELECT * FROM {tbl};\", conn)\n",
    "    df.to_csv(out_file, index=False)\n",
    "    print(f\"{len(df):,} rows → {out_file.name}\")"
   ]
  },
  {
   "cell_type": "code",
   "execution_count": 13,
   "id": "3844cd1e",
   "metadata": {},
   "outputs": [
    {
     "name": "stdout",
     "output_type": "stream",
     "text": [
      "                      name\n",
      "0           admissions.csv\n",
      "1              d_hcpcs.csv\n",
      "2      d_icd_diagnoses.csv\n",
      "3     d_icd_procedures.csv\n",
      "4           d_labitems.csv\n",
      "5        diagnoses_icd.csv\n",
      "6             drgcodes.csv\n",
      "7                 emar.csv\n",
      "8          emar_detail.csv\n",
      "9          hcpcsevents.csv\n",
      "10           labevents.csv\n",
      "11  microbiologyevents.csv\n",
      "12                 omr.csv\n",
      "13            patients.csv\n",
      "14            pharmacy.csv\n",
      "15                 poe.csv\n",
      "16          poe_detail.csv\n",
      "17       prescriptions.csv\n",
      "18      procedures_icd.csv\n",
      "19            provider.csv\n",
      "20            services.csv\n",
      "21           transfers.csv\n"
     ]
    }
   ],
   "source": [
    "tables_df = pd.read_sql_query(\n",
    "    \"SELECT name FROM sqlite_master WHERE type='table' ORDER BY name;\",\n",
    "    conn\n",
    ")\n",
    "print(tables_df)"
   ]
  }
 ],
 "metadata": {
  "kernelspec": {
   "display_name": "langchain_rag",
   "language": "python",
   "name": "python3"
  },
  "language_info": {
   "codemirror_mode": {
    "name": "ipython",
    "version": 3
   },
   "file_extension": ".py",
   "mimetype": "text/x-python",
   "name": "python",
   "nbconvert_exporter": "python",
   "pygments_lexer": "ipython3",
   "version": "3.11.13"
  }
 },
 "nbformat": 4,
 "nbformat_minor": 5
}

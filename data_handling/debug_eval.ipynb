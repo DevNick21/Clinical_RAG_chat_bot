{
 "cells": [
  {
   "cell_type": "code",
   "execution_count": null,
   "id": "0",
   "metadata": {},
   "outputs": [],
   "source": [
    "import pandas as pd\n",
    "import pickle"
   ]
  },
  {
   "cell_type": "code",
   "execution_count": null,
   "id": "1",
   "metadata": {},
   "outputs": [],
   "source": [
    "with open(\"../mimic_sample_1000/exports/link_tables.pkl\", \"rb\") as f:\n",
    "    link_tables = pickle.load(f)"
   ]
  },
  {
   "cell_type": "code",
   "execution_count": null,
   "id": "2",
   "metadata": {},
   "outputs": [],
   "source": [
    "section = 'prescriptions'  \n",
    "hadm = '25593892' \n",
    "\n",
    "\n",
    "if section in link_tables:\n",
    "    df_section = link_tables[section]\n",
    "    if hasattr(df_section, 'columns') and 'hadm_id' in df_section.columns:\n",
    "        \n",
    "        filtered_data = df_section.loc[df_section['hadm_id'].astype(str) == hadm].copy()\n",
    "        \n",
    "        print(f\"Found {len(filtered_data)} records for hadm_id {hadm} in {section}\")\n",
    "        \n",
    "        if len(filtered_data) > 0:\n",
    "            display(filtered_data)\n",
    "        else:\n",
    "            print(f\"No records found for hadm_id {hadm} in {section}\")\n",
    "    else:\n",
    "        print(f\"Section {section} does not have 'hadm_id' column\")\n",
    "else:\n",
    "    print(f\"Section {section} not found in link_tables\")\n",
    "    print(f\"Available sections: {list(link_tables.keys())}\")"
   ]
  },
  {
   "cell_type": "code",
   "execution_count": null,
   "id": "3",
   "metadata": {},
   "outputs": [],
   "source": []
  }
 ],
 "metadata": {
  "kernelspec": {
   "display_name": "venv (3.11.9)",
   "language": "python",
   "name": "python3"
  },
  "language_info": {
   "codemirror_mode": {
    "name": "ipython",
    "version": 3
   },
   "file_extension": ".py",
   "mimetype": "text/x-python",
   "name": "python",
   "nbconvert_exporter": "python",
   "pygments_lexer": "ipython3",
   "version": "3.11.9"
  }
 },
 "nbformat": 4,
 "nbformat_minor": 5
}

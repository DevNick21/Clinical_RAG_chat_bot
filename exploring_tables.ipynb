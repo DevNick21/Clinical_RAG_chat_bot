{
 "cells": [
  {
   "cell_type": "code",
   "execution_count": 1,
   "id": "c6b43894",
   "metadata": {},
   "outputs": [],
   "source": [
    "import sqlite3\n",
    "conn = sqlite3.connect('mimic_iv_hosp.db')\n",
    "cursor = conn.cursor()"
   ]
  },
  {
   "cell_type": "code",
   "execution_count": 2,
   "id": "6f520f5a",
   "metadata": {},
   "outputs": [
    {
     "name": "stdout",
     "output_type": "stream",
     "text": [
      "admissions.csv\n",
      "diagnoses_icd.csv\n",
      "drgcodes.csv\n",
      "d_hcpcs.csv\n",
      "d_icd_diagnoses.csv\n",
      "d_icd_procedures.csv\n",
      "d_labitems.csv\n",
      "emar.csv\n",
      "hcpcsevents.csv\n",
      "microbiologyevents.csv\n",
      "omr.csv\n",
      "patients.csv\n",
      "pharmacy.csv\n",
      "poe.csv\n",
      "poe_detail.csv\n",
      "prescriptions.csv\n",
      "procedures_icd.csv\n",
      "provider.csv\n",
      "services.csv\n",
      "transfers.csv\n",
      "emar_detail.csv\n",
      "labevents.csv\n"
     ]
    }
   ],
   "source": [
    "cursor.execute(\"SELECT name FROM sqlite_master WHERE type='table';\")\n",
    "tables = cursor.fetchall()\n",
    "for table in tables:\n",
    "    print(table[0])"
   ]
  },
  {
   "cell_type": "code",
   "execution_count": 3,
   "id": "78d3591d",
   "metadata": {},
   "outputs": [
    {
     "name": "stdout",
     "output_type": "stream",
     "text": [
      "(0, 'subject_id', 'INTEGER', 0, None, 0)\n",
      "(1, 'hadm_id', 'INTEGER', 0, None, 0)\n",
      "(2, 'admittime', 'TEXT', 0, None, 0)\n",
      "(3, 'dischtime', 'TEXT', 0, None, 0)\n",
      "(4, 'deathtime', 'TEXT', 0, None, 0)\n",
      "(5, 'admission_type', 'TEXT', 0, None, 0)\n",
      "(6, 'admit_provider_id', 'TEXT', 0, None, 0)\n",
      "(7, 'admission_location', 'TEXT', 0, None, 0)\n",
      "(8, 'discharge_location', 'TEXT', 0, None, 0)\n",
      "(9, 'insurance', 'TEXT', 0, None, 0)\n",
      "(10, 'language', 'TEXT', 0, None, 0)\n",
      "(11, 'marital_status', 'TEXT', 0, None, 0)\n",
      "(12, 'race', 'TEXT', 0, None, 0)\n",
      "(13, 'edregtime', 'TEXT', 0, None, 0)\n",
      "(14, 'edouttime', 'TEXT', 0, None, 0)\n",
      "(15, 'hospital_expire_flag', 'INTEGER', 0, None, 0)\n"
     ]
    }
   ],
   "source": [
    "cursor.execute('PRAGMA table_info(\"admissions.csv\")')\n",
    "for row in cursor.fetchall():\n",
    "    print(row)"
   ]
  },
  {
   "cell_type": "code",
   "execution_count": 4,
   "id": "7fdd54a7",
   "metadata": {},
   "outputs": [],
   "source": [
    "cursor.execute(\"SELECT name FROM sqlite_master WHERE type='table';\")\n",
    "table_names = [t[0] for t in cursor.fetchall()]"
   ]
  },
  {
   "cell_type": "code",
   "execution_count": 5,
   "id": "ce996837",
   "metadata": {},
   "outputs": [],
   "source": [
    "key_fields = {\"subject_id\", \"hadm_id\", \"stay_id\", \"icd_code\"}"
   ]
  },
  {
   "cell_type": "code",
   "execution_count": 6,
   "id": "4468c48f",
   "metadata": {},
   "outputs": [],
   "source": [
    "schema_info = []\n",
    "\n",
    "for table in table_names:\n",
    "    cursor.execute(f'PRAGMA table_info(\"{table}\")')\n",
    "    for row in cursor.fetchall():\n",
    "        column_name = row[1]\n",
    "        schema_info.append({\n",
    "            \"table\": table,\n",
    "            \"column\": column_name,\n",
    "            \"type\": row[2],\n",
    "        })"
   ]
  },
  {
   "cell_type": "code",
   "execution_count": 7,
   "id": "8f86219f",
   "metadata": {},
   "outputs": [],
   "source": [
    "import pandas as pd\n",
    "df = pd.DataFrame(schema_info)"
   ]
  },
  {
   "cell_type": "code",
   "execution_count": 8,
   "id": "868a8839",
   "metadata": {},
   "outputs": [
    {
     "name": "stdout",
     "output_type": "stream",
     "text": [
      "              table           column     type\n",
      "0    admissions.csv       subject_id  INTEGER\n",
      "1    admissions.csv          hadm_id  INTEGER\n",
      "2    admissions.csv        admittime     TEXT\n",
      "3    admissions.csv        dischtime     TEXT\n",
      "4    admissions.csv        deathtime     TEXT\n",
      "..              ...              ...      ...\n",
      "224   labevents.csv  ref_range_lower     REAL\n",
      "225   labevents.csv  ref_range_upper     REAL\n",
      "226   labevents.csv             flag     TEXT\n",
      "227   labevents.csv         priority     TEXT\n",
      "228   labevents.csv         comments     TEXT\n",
      "\n",
      "[229 rows x 3 columns]\n"
     ]
    }
   ],
   "source": [
    "print(df)"
   ]
  },
  {
   "cell_type": "code",
   "execution_count": 10,
   "id": "7b68de37",
   "metadata": {},
   "outputs": [
    {
     "ename": "",
     "evalue": "",
     "output_type": "error",
     "traceback": [
      "\u001b[1;31mCannot execute code, session has been disposed. Please try restarting the Kernel."
     ]
    },
    {
     "ename": "",
     "evalue": "",
     "output_type": "error",
     "traceback": [
      "\u001b[1;31mCannot execute code, session has been disposed. Please try restarting the Kernel. \n",
      "\u001b[1;31mView Jupyter <a href='command:jupyter.viewOutput'>log</a> for further details."
     ]
    }
   ],
   "source": [
    "admissions = pd.read_sql_query('SELECT * FROM \"admissions.csv\"', conn)\n",
    "diagnoses = pd.read_sql_query('SELECT * FROM \"diagnoses_icd.csv\"', conn)\n",
    "diag_defs = pd.read_sql_query('SELECT * FROM \"d_icd_diagnoses.csv\"', conn)\n",
    "labs = pd.read_sql('SELECT * FROM \"labevents.csv\" LIMIT 1000000', conn)       # sample for speed\n",
    "lab_defs = pd.read_sql('SELECT * FROM \"d_labitems.csv\"', conn)\n",
    "presc = pd.read_sql('SELECT * FROM \"prescriptions.csv\"', conn)"
   ]
  },
  {
   "cell_type": "code",
   "execution_count": null,
   "id": "8304c05d",
   "metadata": {},
   "outputs": [],
   "source": [
    "lab"
   ]
  },
  {
   "cell_type": "code",
   "execution_count": null,
   "id": "1f42827e",
   "metadata": {},
   "outputs": [],
   "source": [
    "diagnoses"
   ]
  },
  {
   "cell_type": "code",
   "execution_count": null,
   "id": "8c13fbdf",
   "metadata": {},
   "outputs": [],
   "source": [
    "diag_defs"
   ]
  },
  {
   "cell_type": "markdown",
   "id": "1bb2fb4e",
   "metadata": {},
   "source": [
    "merging diagnoses with descriptions"
   ]
  },
  {
   "cell_type": "code",
   "execution_count": null,
   "id": "4f8824ea",
   "metadata": {},
   "outputs": [],
   "source": [
    "diagnoses = diagnoses.merge(\n",
    "    diag_defs,\n",
    "    on=[\"icd_code\", \"icd_version\"],\n",
    "    how=\"left\"\n",
    ")"
   ]
  },
  {
   "cell_type": "markdown",
   "id": "0641eb8a",
   "metadata": {},
   "source": [
    "Grouping diagnoses by admission"
   ]
  },
  {
   "cell_type": "code",
   "execution_count": null,
   "id": "2238a9c5",
   "metadata": {},
   "outputs": [],
   "source": [
    "grouped_diags = diagnoses.groupby(\"hadm_id\")[\"long_title\"].apply(lambda x: \"; \".join(x.dropna().unique())).reset_index()\n",
    "grouped_diags.rename(columns={\"long_title\": \"diagnosis_summary\"}, inplace=True)"
   ]
  },
  {
   "cell_type": "markdown",
   "id": "83550bf8",
   "metadata": {},
   "source": [
    "Merge into admissions"
   ]
  },
  {
   "cell_type": "code",
   "execution_count": null,
   "id": "9f562bdb",
   "metadata": {},
   "outputs": [],
   "source": [
    "enriched = admissions.merge(grouped_diags, on=\"hadm_id\", how=\"left\")"
   ]
  },
  {
   "cell_type": "code",
   "execution_count": null,
   "id": "6f0a49d7",
   "metadata": {},
   "outputs": [],
   "source": [
    "enriched"
   ]
  },
  {
   "cell_type": "code",
   "execution_count": null,
   "id": "3653d958",
   "metadata": {},
   "outputs": [],
   "source": [
    "def build_summary(row):\n",
    "    outcome = \"Died in hospital\" if row.hospital else \"Discharged alive\"\n",
    "    return f\"\"\"Patient ID: {row.subject_id}\n",
    "Admission ID: {row.hadm_id}\n",
    "Admission Type: {row.admission_type}\n",
    "Admission Time: {row.admittime}\n",
    "Discharge Time: {row.dischtime}\n",
    "Insurance: {row.insurance}\n",
    "Marital Status: {row.marital_status}\n",
    "Race: {row.race}\n",
    "Diagnoses: {row.diagnosis_summary if pd.notna(row.diagnosis_summary) else \"N/A\"}\"\"\"\n",
    "\n",
    "enriched[\"summary\"] = enriched.apply(build_summary, axis=1)"
   ]
  },
  {
   "cell_type": "code",
   "execution_count": null,
   "id": "d82dd088",
   "metadata": {},
   "outputs": [],
   "source": [
    "for text in enriched[\"summary\"].head(5):\n",
    "    print(text)\n",
    "    print(\"-\" * 40)"
   ]
  },
  {
   "cell_type": "code",
   "execution_count": null,
   "id": "c6b5de3e",
   "metadata": {},
   "outputs": [],
   "source": [
    "enriched"
   ]
  },
  {
   "cell_type": "code",
   "execution_count": null,
   "id": "998f6c1c",
   "metadata": {},
   "outputs": [],
   "source": [
    "sampled = enriched.sample(5000, random_state=80)"
   ]
  },
  {
   "cell_type": "code",
   "execution_count": null,
   "id": "47a8fdb9",
   "metadata": {},
   "outputs": [],
   "source": [
    "from langchain.docstore.document import Document\n",
    "from langchain.embeddings import HuggingFaceEmbeddings\n",
    "from langchain.vectorstores import FAISS\n",
    "\n",
    "\n",
    "documents = [\n",
    "    Document(\n",
    "        page_content=row[\"summary\"],\n",
    "        metadata={\n",
    "            \"subject_id\": row[\"subject_id\"],\n",
    "            \"hadm_id\": row[\"hadm_id\"],\n",
    "            \"admittime\": row[\"admittime\"],\n",
    "            \"dischtime\": row[\"dischtime\"]\n",
    "        }\n",
    "    )\n",
    "    for _, row in sampled.iterrows()\n",
    "]"
   ]
  },
  {
   "cell_type": "code",
   "execution_count": null,
   "id": "be346ab9",
   "metadata": {},
   "outputs": [],
   "source": [
    "embedding = HuggingFaceEmbeddings(model_name=\"./models/all-MiniLM-L6-v2\")"
   ]
  },
  {
   "cell_type": "code",
   "execution_count": null,
   "id": "f8129cbd",
   "metadata": {},
   "outputs": [],
   "source": [
    "vectorstore = FAISS.from_documents(documents, embedding)\n",
    "vectorstore.save_local(\"mimic_vectorstore\")"
   ]
  },
  {
   "cell_type": "code",
   "execution_count": null,
   "id": "c089464d",
   "metadata": {},
   "outputs": [],
   "source": [
    "retriever = vectorstore.as_retriever()"
   ]
  },
  {
   "cell_type": "code",
   "execution_count": null,
   "id": "994f857d",
   "metadata": {},
   "outputs": [],
   "source": [
    "sampled"
   ]
  },
  {
   "cell_type": "code",
   "execution_count": null,
   "id": "91d10c6e",
   "metadata": {},
   "outputs": [],
   "source": [
    "from langchain.llms import Ollama\n",
    "from langchain.chains import RetrievalQA\n",
    "\n",
    "llm = Ollama(model=\"llama3.2:latest\")\n",
    "\n",
    "qa_chain = RetrievalQA.from_chain_type(llm=llm, retriever=retriever)\n",
    "\n",
    "response = qa_chain.run(\"How many patients died?\")\n",
    "print(response)"
   ]
  }
 ],
 "metadata": {
  "kernelspec": {
   "display_name": "langchain_rag",
   "language": "python",
   "name": "python3"
  },
  "language_info": {
   "codemirror_mode": {
    "name": "ipython",
    "version": 3
   },
   "file_extension": ".py",
   "mimetype": "text/x-python",
   "name": "python",
   "nbconvert_exporter": "python",
   "pygments_lexer": "ipython3",
   "version": "3.11.13"
  }
 },
 "nbformat": 4,
 "nbformat_minor": 5
}

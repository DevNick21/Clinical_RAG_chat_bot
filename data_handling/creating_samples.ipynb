{
 "cells": [
  {
   "cell_type": "code",
   "execution_count": null,
   "id": "0",
   "metadata": {},
   "outputs": [],
   "source": [
    "import sqlite3\n",
    "import pandas as pd\n",
    "from pathlib import Path"
   ]
  },
  {
   "cell_type": "code",
   "execution_count": null,
   "id": "1",
   "metadata": {},
   "outputs": [],
   "source": [
    "DB_PATH       = \"mimic_iv_hosp.db\"\n",
    "OUTPUT_FOLDER = Path(\"./mimic_sample_1000\")\n",
    "SAMPLE_SIZE   = 1000"
   ]
  },
  {
   "cell_type": "code",
   "execution_count": null,
   "id": "2",
   "metadata": {},
   "outputs": [],
   "source": [
    "OUTPUT_FOLDER.mkdir(exist_ok=True)"
   ]
  },
  {
   "cell_type": "code",
   "execution_count": null,
   "id": "3",
   "metadata": {},
   "outputs": [],
   "source": [
    "conn   = sqlite3.connect(DB_PATH)\n",
    "cursor = conn.cursor()"
   ]
  },
  {
   "cell_type": "code",
   "execution_count": null,
   "id": "4",
   "metadata": {},
   "outputs": [],
   "source": [
    "cursor.execute(\"SELECT name FROM sqlite_master WHERE type='table';\")\n",
    "all_tables = [row[0] for row in cursor.fetchall()]"
   ]
  },
  {
   "cell_type": "code",
   "execution_count": null,
   "id": "5",
   "metadata": {},
   "outputs": [],
   "source": [
    "linking_tables = []\n",
    "for tbl in all_tables:\n",
    "    cursor.execute(f'PRAGMA table_info(\"{tbl}\");')\n",
    "    cols = [r[1] for r in cursor.fetchall()]\n",
    "    if \"hadm_id\" in cols:\n",
    "        linking_tables.append(tbl)\n",
    "\n",
    "print(f\"Found {len(linking_tables)} tables with hadm_id: {linking_tables}\\n\")"
   ]
  },
  {
   "cell_type": "code",
   "execution_count": null,
   "id": "6",
   "metadata": {},
   "outputs": [],
   "source": [
    "sample_sql = f\"\"\"\n",
    "    SELECT hadm_id\n",
    "      FROM [admissions.csv]\n",
    "     ORDER BY RANDOM()\n",
    "     LIMIT {SAMPLE_SIZE};\n",
    "\"\"\"\n",
    "sample_ids = pd.read_sql_query(sample_sql, conn)[\"hadm_id\"].tolist()\n",
    "print(f\"Sampled {len(sample_ids)} hadm_ids (e.g. {sample_ids[:5]}…)\\n\")"
   ]
  },
  {
   "cell_type": "code",
   "execution_count": null,
   "id": "7",
   "metadata": {},
   "outputs": [],
   "source": [
    "sample_df = pd.DataFrame({\"hadm_id\": sample_ids})\n",
    "sample_df.to_sql(\"sample_adm\", conn, if_exists=\"replace\", index=False)"
   ]
  },
  {
   "cell_type": "code",
   "execution_count": null,
   "id": "8",
   "metadata": {},
   "outputs": [],
   "source": [
    "for tbl in linking_tables:\n",
    "    print(f\"Exporting table `{tbl}`…\", end=\" \")\n",
    "    df = pd.read_sql_query(\n",
    "        f'SELECT * FROM \"{tbl}\" WHERE hadm_id IN (SELECT hadm_id FROM sample_adm);',\n",
    "        conn\n",
    "    )\n",
    "    out_path = OUTPUT_FOLDER / f\"{tbl}_sample{SAMPLE_SIZE}.csv\"\n",
    "    df.to_csv(out_path, index=False)\n",
    "    print(f\"{len(df):,} rows → {out_path.name}\")"
   ]
  },
  {
   "cell_type": "code",
   "execution_count": null,
   "id": "9",
   "metadata": {},
   "outputs": [],
   "source": [
    "cursor.execute(\"DROP TABLE IF EXISTS sample_adm;\")\n",
    "conn.commit()\n",
    "conn.close()"
   ]
  },
  {
   "cell_type": "markdown",
   "id": "10",
   "metadata": {},
   "source": [
    "Re opening to get other datasets not linked by hadm_id"
   ]
  },
  {
   "cell_type": "code",
   "execution_count": null,
   "id": "11",
   "metadata": {},
   "outputs": [],
   "source": [
    "import sqlite3\n",
    "conn = sqlite3.connect(\"mimic_iv_hosp.db\")"
   ]
  },
  {
   "cell_type": "code",
   "execution_count": null,
   "id": "12",
   "metadata": {},
   "outputs": [],
   "source": [
    "import pandas as pd\n",
    "from pathlib import Path\n",
    "OUTPUT = Path(\"./mimic_sample_1000\")"
   ]
  },
  {
   "cell_type": "code",
   "execution_count": null,
   "id": "13",
   "metadata": {},
   "outputs": [],
   "source": [
    "small_defs = [\n",
    "    \"d_icd_diagnoses.csv\",\n",
    "    \"d_icd_procedures.csv\",\n",
    "    \"d_labitems.csv\",\n",
    "    \"d_hcpcs.csv\",\n",
    "    \"provider.csv\",\n",
    "]\n",
    "for tbl in small_defs:\n",
    "    out_file = OUTPUT / f\"{tbl}.csv\"\n",
    "    if out_file.exists():\n",
    "        print(f\"Skipping {tbl} (already exists).\")\n",
    "        continue\n",
    "\n",
    "    print(f\"Exporting {tbl}…\", end=\" \")\n",
    "    df = pd.read_sql_query(f\"SELECT * FROM {tbl};\", conn)\n",
    "    df.to_csv(out_file, index=False)\n",
    "    print(f\"{len(df):,} rows → {out_file.name}\")"
   ]
  },
  {
   "cell_type": "code",
   "execution_count": null,
   "id": "14",
   "metadata": {},
   "outputs": [],
   "source": [
    "tables_df = pd.read_sql_query(\n",
    "    \"SELECT name FROM sqlite_master WHERE type='table' ORDER BY name;\",\n",
    "    conn\n",
    ")\n",
    "print(tables_df)"
   ]
  }
 ],
 "metadata": {
  "kernelspec": {
   "display_name": "langchain_rag",
   "language": "python",
   "name": "python3"
  },
  "language_info": {
   "codemirror_mode": {
    "name": "ipython",
    "version": 3
   },
   "file_extension": ".py",
   "mimetype": "text/x-python",
   "name": "python",
   "nbconvert_exporter": "python",
   "pygments_lexer": "ipython3",
   "version": "3.11.13"
  }
 },
 "nbformat": 4,
 "nbformat_minor": 5
}

{
 "cells": [
  {
   "cell_type": "code",
   "execution_count": null,
   "id": "0",
   "metadata": {},
   "outputs": [],
   "source": [
    "import pandas as pd\n",
    "from pathlib import Path\n",
    "import glob\n",
    "import sqlite3"
   ]
  },
  {
   "cell_type": "code",
   "execution_count": null,
   "id": "1",
   "metadata": {},
   "outputs": [],
   "source": [
    "conn = sqlite3.connect(\"mimic_iv.db\")"
   ]
  },
  {
   "cell_type": "code",
   "execution_count": null,
   "id": "2",
   "metadata": {},
   "outputs": [],
   "source": [
    "existing_tables = pd.read_sql_query(\n",
    "    \"SELECT name FROM sqlite_master WHERE type='table';\", conn\n",
    ")['name'].tolist()\n",
    "\n",
    "folder_hosp = Path(\"files/mimiciv/3.1/hosp\")\n",
    "\n",
    "for file in folder_hosp.glob(\"*.csv.gz\"):\n",
    "    table_name = file.stem\n",
    "    if table_name in existing_tables:\n",
    "        print(f\"Skipping {table_name}, already in database.\")\n",
    "        continue\n",
    "\n",
    "    try:\n",
    "        print(f\"Inserting {table_name} in chunks...\")\n",
    "        chunks = pd.read_csv(file, compression='gzip', chunksize=50000, low_memory=False)\n",
    "\n",
    "        for i, chunk in enumerate(chunks):\n",
    "            chunk.to_sql(table_name, conn, if_exists='append', index=False)\n",
    "            print(f\"Inserted chunk {i + 1}\")\n",
    "\n",
    "    except Exception as e:\n",
    "        print(f\"Failed on {file.name}: {e}\")\n"
   ]
  }
 ],
 "metadata": {
  "kernelspec": {
   "display_name": "langchain_rag",
   "language": "python",
   "name": "python3"
  },
  "language_info": {
   "codemirror_mode": {
    "name": "ipython",
    "version": 3
   },
   "file_extension": ".py",
   "mimetype": "text/x-python",
   "name": "python",
   "nbconvert_exporter": "python",
   "pygments_lexer": "ipython3",
   "version": "3.11.13"
  }
 },
 "nbformat": 4,
 "nbformat_minor": 5
}
